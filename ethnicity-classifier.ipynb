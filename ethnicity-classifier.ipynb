{
 "cells": [
  {
   "cell_type": "code",
   "execution_count": 2,
   "id": "d6ca69fa",
   "metadata": {},
   "outputs": [],
   "source": [
    "import os\n",
    "import cv2\n",
    "import numpy as np\n",
    "import matplotlib.pyplot as plt\n",
    "from tensorflow.keras.utils import to_categorical \n",
    "from sklearn.model_selection import train_test_split \n"
   ]
  },
  {
   "cell_type": "code",
   "execution_count": 3,
   "id": "924de2c1",
   "metadata": {},
   "outputs": [],
   "source": [
    "dataset_path = 'data/'"
   ]
  },
  {
   "cell_type": "code",
   "execution_count": null,
   "id": "d9e6d006",
   "metadata": {},
   "outputs": [],
   "source": [
    "\n",
    "images = []\n",
    "ethnicities = []\n",
    "\n",
    "for file in os.listdir(dataset_path):\n",
    "    try:\n",
    "        label = int(file.split(\"_\")[2])\n",
    "        \n",
    "        img = cv2.imread(os.path.join(dataset_path, file))  # Read image in BGR format\n",
    "        \n",
    "        img = cv2.resize(img, (100, 100))  \n",
    "        \n",
    "        img = img / 255.0  \n",
    "        \n",
    "        images.append(img)\n",
    "        ethnicities.append(label)\n",
    "\n",
    "    except Exception as e:\n",
    "        print(\"Error :\", file, e)\n"
   ]
  },
  {
   "cell_type": "code",
   "execution_count": null,
   "id": "78c5d699",
   "metadata": {},
   "outputs": [],
   "source": []
  },
  {
   "cell_type": "code",
   "execution_count": null,
   "id": "1e58d038",
   "metadata": {},
   "outputs": [],
   "source": []
  },
  {
   "cell_type": "code",
   "execution_count": null,
   "id": "8f2a51ac",
   "metadata": {},
   "outputs": [],
   "source": []
  },
  {
   "cell_type": "code",
   "execution_count": null,
   "id": "4750b266",
   "metadata": {},
   "outputs": [],
   "source": []
  },
  {
   "cell_type": "code",
   "execution_count": null,
   "id": "866940da",
   "metadata": {},
   "outputs": [],
   "source": [
    "\n"
   ]
  },
  {
   "cell_type": "code",
   "execution_count": null,
   "id": "25036fdf",
   "metadata": {},
   "outputs": [],
   "source": []
  },
  {
   "cell_type": "code",
   "execution_count": null,
   "id": "bf88a6f2",
   "metadata": {},
   "outputs": [],
   "source": []
  }
 ],
 "metadata": {
  "kernelspec": {
   "display_name": "Python 3 (ipykernel)",
   "language": "python",
   "name": "python3"
  },
  "language_info": {
   "codemirror_mode": {
    "name": "ipython",
    "version": 3
   },
   "file_extension": ".py",
   "mimetype": "text/x-python",
   "name": "python",
   "nbconvert_exporter": "python",
   "pygments_lexer": "ipython3",
   "version": "3.9.5"
  }
 },
 "nbformat": 4,
 "nbformat_minor": 5
}
